{
 "cells": [
  {
   "cell_type": "code",
   "execution_count": 21,
   "metadata": {},
   "outputs": [
    {
     "name": "stdout",
     "output_type": "stream",
     "text": [
      "Obtaining file:///home/darkspartan345/Documentos/GitHub/OpenAI-Gym-TicTacToe-Environment/gym_TicTacToe\n",
      "  Preparing metadata (setup.py) ... \u001b[?25ldone\n",
      "\u001b[?25hRequirement already satisfied: gymnasium in /home/darkspartan345/miniconda3/lib/python3.12/site-packages (from gym_TicTacToe==0.1) (1.2.0)\n",
      "Requirement already satisfied: numpy in /home/darkspartan345/miniconda3/lib/python3.12/site-packages (from gym_TicTacToe==0.1) (2.3.1)\n",
      "Requirement already satisfied: cloudpickle>=1.2.0 in /home/darkspartan345/miniconda3/lib/python3.12/site-packages (from gymnasium->gym_TicTacToe==0.1) (3.1.1)\n",
      "Requirement already satisfied: typing-extensions>=4.3.0 in /home/darkspartan345/miniconda3/lib/python3.12/site-packages (from gymnasium->gym_TicTacToe==0.1) (4.12.2)\n",
      "Requirement already satisfied: farama-notifications>=0.0.1 in /home/darkspartan345/miniconda3/lib/python3.12/site-packages (from gymnasium->gym_TicTacToe==0.1) (0.0.4)\n",
      "Installing collected packages: gym_TicTacToe\n",
      "  Attempting uninstall: gym_TicTacToe\n",
      "    Found existing installation: gym_TicTacToe 0.1\n",
      "    Uninstalling gym_TicTacToe-0.1:\n",
      "      Successfully uninstalled gym_TicTacToe-0.1\n",
      "\u001b[33m  DEPRECATION: Legacy editable install of gym_TicTacToe==0.1 from file:///home/darkspartan345/Documentos/GitHub/OpenAI-Gym-TicTacToe-Environment/gym_TicTacToe (setup.py develop) is deprecated. pip 25.1 will enforce this behaviour change. A possible replacement is to add a pyproject.toml or enable --use-pep517, and use setuptools >= 64. If the resulting installation is not behaving as expected, try using --config-settings editable_mode=compat. Please consult the setuptools documentation for more information. Discussion can be found at https://github.com/pypa/pip/issues/11457\u001b[0m\u001b[33m\n",
      "\u001b[0m  Running setup.py develop for gym_TicTacToe\n",
      "Successfully installed gym_TicTacToe-0.1\n",
      "Note: you may need to restart the kernel to use updated packages.\n"
     ]
    }
   ],
   "source": [
    "pip install -e gym_TicTacToe/\n"
   ]
  },
  {
   "cell_type": "code",
   "execution_count": 22,
   "metadata": {},
   "outputs": [
    {
     "name": "stdout",
     "output_type": "stream",
     "text": [
      "Requirement already satisfied: tabulate in /home/darkspartan345/miniconda3/lib/python3.12/site-packages (0.9.0)\n",
      "Note: you may need to restart the kernel to use updated packages.\n"
     ]
    }
   ],
   "source": [
    "pip install tabulate"
   ]
  },
  {
   "cell_type": "code",
   "execution_count": 23,
   "metadata": {},
   "outputs": [],
   "source": [
    "import gymnasium as gym\n",
    "import gym_TicTacToe  # Asegúrate que esté registrado\n",
    "\n",
    "env = gym.make(\"TicTacToe-v0\", render_mode=\"human\", small=-1, large=10)"
   ]
  },
  {
   "cell_type": "code",
   "execution_count": 24,
   "metadata": {},
   "outputs": [
    {
     "data": {
      "text/plain": [
       "[np.int64(7),\n",
       " np.int64(3),\n",
       " np.int64(0),\n",
       " np.int64(5),\n",
       " np.int64(6),\n",
       " np.int64(5),\n",
       " np.int64(3),\n",
       " np.int64(3),\n",
       " np.int64(3),\n",
       " np.int64(1)]"
      ]
     },
     "execution_count": 24,
     "metadata": {},
     "output_type": "execute_result"
    }
   ],
   "source": [
    "# get 10 randomly sampled actions (between 0 and 8)\n",
    "[env.action_space.sample() for _ in range(10)]"
   ]
  },
  {
   "cell_type": "code",
   "execution_count": 25,
   "metadata": {},
   "outputs": [
    {
     "data": {
      "text/plain": [
       "[array([2, 1, 0, 1, 0, 2, 2, 0, 1]),\n",
       " array([0, 1, 2, 2, 2, 0, 0, 0, 0]),\n",
       " array([1, 2, 0, 1, 1, 1, 1, 1, 1]),\n",
       " array([2, 1, 1, 0, 0, 2, 0, 2, 1]),\n",
       " array([2, 2, 1, 1, 0, 0, 2, 0, 2]),\n",
       " array([1, 2, 1, 0, 0, 2, 0, 2, 1]),\n",
       " array([2, 0, 2, 1, 1, 1, 2, 0, 1]),\n",
       " array([1, 2, 0, 1, 1, 2, 2, 1, 1]),\n",
       " array([2, 2, 0, 1, 0, 0, 0, 2, 1]),\n",
       " array([1, 0, 0, 0, 2, 0, 0, 1, 0])]"
      ]
     },
     "execution_count": 25,
     "metadata": {},
     "output_type": "execute_result"
    }
   ],
   "source": [
    "# get 10 randomly sampled states\n",
    "[env.observation_space.sample() for _ in range(10)]"
   ]
  },
  {
   "cell_type": "code",
   "execution_count": 26,
   "metadata": {},
   "outputs": [
    {
     "name": "stdout",
     "output_type": "stream",
     "text": [
      "╒═══╤═══╤═══╕\n",
      "│ - │ - │ - │\n",
      "├───┼───┼───┤\n",
      "│ - │ - │ - │\n",
      "├───┼───┼───┤\n",
      "│ - │ - │ - │\n",
      "╘═══╧═══╧═══╛\n"
     ]
    }
   ],
   "source": [
    "env.reset()\n",
    "env.render()"
   ]
  },
  {
   "cell_type": "code",
   "execution_count": 27,
   "metadata": {},
   "outputs": [
    {
     "name": "stdout",
     "output_type": "stream",
     "text": [
      "[0 0 0 0 1 0 0 0 0] -1 False\n",
      "╒═══╤═══╤═══╕\n",
      "│ - │ - │ - │\n",
      "├───┼───┼───┤\n",
      "│ - │ X │ - │\n",
      "├───┼───┼───┤\n",
      "│ - │ - │ - │\n",
      "╘═══╧═══╧═══╛\n"
     ]
    }
   ],
   "source": [
    "color = 1 # player 1\n",
    "action = 4\n",
    "\n",
    "new_state, reward, done,truncated, _ = env.step(action)\n",
    "print(new_state, reward, done)\n",
    "env.render()"
   ]
  },
  {
   "cell_type": "code",
   "execution_count": 28,
   "metadata": {},
   "outputs": [
    {
     "name": "stdout",
     "output_type": "stream",
     "text": [
      "[2 0 0 0 1 0 0 0 0] -1 False\n",
      "╒═══╤═══╤═══╕\n",
      "│ O │ - │ - │\n",
      "├───┼───┼───┤\n",
      "│ - │ X │ - │\n",
      "├───┼───┼───┤\n",
      "│ - │ - │ - │\n",
      "╘═══╧═══╧═══╛\n"
     ]
    }
   ],
   "source": [
    "\n",
    "action = 0\n",
    "new_state, reward, done,truncated, _ = env.step(action)\n",
    "print(new_state, reward, done)\n",
    "env.render()"
   ]
  },
  {
   "cell_type": "code",
   "execution_count": 30,
   "metadata": {},
   "outputs": [
    {
     "name": "stdout",
     "output_type": "stream",
     "text": [
      "Box(0, 2, (9,), int64) 9\n"
     ]
    }
   ],
   "source": [
    "state_size = env.observation_space\n",
    "action_size = env.action_space.n\n",
    "print(state_size, action_size)"
   ]
  }
 ],
 "metadata": {
  "kernelspec": {
   "display_name": "base",
   "language": "python",
   "name": "python3"
  },
  "language_info": {
   "codemirror_mode": {
    "name": "ipython",
    "version": 3
   },
   "file_extension": ".py",
   "mimetype": "text/x-python",
   "name": "python",
   "nbconvert_exporter": "python",
   "pygments_lexer": "ipython3",
   "version": "3.12.9"
  },
  "orig_nbformat": 4
 },
 "nbformat": 4,
 "nbformat_minor": 2
}
