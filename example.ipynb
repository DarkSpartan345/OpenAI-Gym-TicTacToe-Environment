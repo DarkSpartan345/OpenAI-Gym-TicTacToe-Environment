{
 "cells": [
  {
   "cell_type": "code",
   "execution_count": 41,
   "metadata": {},
   "outputs": [
    {
     "name": "stdout",
     "output_type": "stream",
     "text": [
      "Obtaining file:///Users/mauroluzzatto/Documents/python_scripts/OpenAI-Gym-TicTacToe-Environment/gym-TicTacToe\n",
      "  Preparing metadata (setup.py) ... \u001b[?25ldone\n",
      "\u001b[?25hRequirement already satisfied: gym>=0.18 in /Users/mauroluzzatto/.pyenv/versions/3.11.3/envs/gym_env/lib/python3.11/site-packages (from gym-TicTacToe==0.0.1) (0.23.1)\n",
      "Requirement already satisfied: numpy>=1.18.0 in /Users/mauroluzzatto/.pyenv/versions/3.11.3/envs/gym_env/lib/python3.11/site-packages (from gym>=0.18->gym-TicTacToe==0.0.1) (1.26.1)\n",
      "Requirement already satisfied: cloudpickle>=1.2.0 in /Users/mauroluzzatto/.pyenv/versions/3.11.3/envs/gym_env/lib/python3.11/site-packages (from gym>=0.18->gym-TicTacToe==0.0.1) (3.0.0)\n",
      "Requirement already satisfied: gym-notices>=0.0.4 in /Users/mauroluzzatto/.pyenv/versions/3.11.3/envs/gym_env/lib/python3.11/site-packages (from gym>=0.18->gym-TicTacToe==0.0.1) (0.0.8)\n",
      "Installing collected packages: gym-TicTacToe\n",
      "  Attempting uninstall: gym-TicTacToe\n",
      "    Found existing installation: gym-TicTacToe 0.0.1\n",
      "    Uninstalling gym-TicTacToe-0.0.1:\n",
      "      Successfully uninstalled gym-TicTacToe-0.0.1\n",
      "  Running setup.py develop for gym-TicTacToe\n",
      "Successfully installed gym-TicTacToe-0.0.1\n",
      "\n",
      "\u001b[1m[\u001b[0m\u001b[34;49mnotice\u001b[0m\u001b[1;39;49m]\u001b[0m\u001b[39;49m A new release of pip available: \u001b[0m\u001b[31;49m22.3.1\u001b[0m\u001b[39;49m -> \u001b[0m\u001b[32;49m23.3.1\u001b[0m\n",
      "\u001b[1m[\u001b[0m\u001b[34;49mnotice\u001b[0m\u001b[1;39;49m]\u001b[0m\u001b[39;49m To update, run: \u001b[0m\u001b[32;49mpip install --upgrade pip\u001b[0m\n",
      "Note: you may need to restart the kernel to use updated packages.\n"
     ]
    }
   ],
   "source": [
    "pip install -e gym-TicTacToe/."
   ]
  },
  {
   "cell_type": "code",
   "execution_count": 42,
   "metadata": {},
   "outputs": [],
   "source": [
    "import gym\n",
    "# initialize the tictactoe environment\n",
    "env = gym.envs.make(\"TTT-v0\", small=-1, large=10)"
   ]
  },
  {
   "cell_type": "code",
   "execution_count": 43,
   "metadata": {},
   "outputs": [
    {
     "data": {
      "text/plain": [
       "[2, 0, 3, 6, 0, 4, 7, 8, 6, 8]"
      ]
     },
     "execution_count": 43,
     "metadata": {},
     "output_type": "execute_result"
    }
   ],
   "source": [
    "# get 10 randomly sampled actions (between 0 and 8)\n",
    "[env.action_space.sample() for _ in range(10)]"
   ]
  },
  {
   "cell_type": "code",
   "execution_count": 44,
   "metadata": {},
   "outputs": [
    {
     "data": {
      "text/plain": [
       "[545, 5752, 983, 3161, 3301, 7854, 5003, 5311, 5310, 5460]"
      ]
     },
     "execution_count": 44,
     "metadata": {},
     "output_type": "execute_result"
    }
   ],
   "source": [
    "# get 10 randomly sampled states\n",
    "[env.observation_space.sample() for _ in range(10)]"
   ]
  },
  {
   "cell_type": "code",
   "execution_count": 45,
   "metadata": {},
   "outputs": [
    {
     "name": "stdout",
     "output_type": "stream",
     "text": [
      "╒═══╤═══╤═══╕\n",
      "│ - │ - │ - │\n",
      "├───┼───┼───┤\n",
      "│ - │ - │ - │\n",
      "├───┼───┼───┤\n",
      "│ - │ - │ - │\n",
      "╘═══╧═══╧═══╛\n"
     ]
    }
   ],
   "source": [
    "env.reset()\n",
    "print(env.render())"
   ]
  },
  {
   "cell_type": "code",
   "execution_count": 46,
   "metadata": {},
   "outputs": [
    {
     "name": "stdout",
     "output_type": "stream",
     "text": [
      "[[0 0 0]\n",
      " [0 1 0]\n",
      " [0 0 0]] -1 False\n",
      "╒═══╤═══╤═══╕\n",
      "│ - │ - │ - │\n",
      "├───┼───┼───┤\n",
      "│ - │ X │ - │\n",
      "├───┼───┼───┤\n",
      "│ - │ - │ - │\n",
      "╘═══╧═══╧═══╛\n"
     ]
    }
   ],
   "source": [
    "# Step player 1\n",
    "color = 1 # player 1\n",
    "action = 4\n",
    "\n",
    "new_state, reward, done, _ = env.step((action, color))\n",
    "print(new_state, reward, done)\n",
    "print(env.render())"
   ]
  },
  {
   "cell_type": "code",
   "execution_count": 47,
   "metadata": {},
   "outputs": [
    {
     "name": "stdout",
     "output_type": "stream",
     "text": [
      "[[2 0 0]\n",
      " [0 1 0]\n",
      " [0 0 0]] -1 False\n",
      "╒═══╤═══╤═══╕\n",
      "│ O │ - │ - │\n",
      "├───┼───┼───┤\n",
      "│ - │ X │ - │\n",
      "├───┼───┼───┤\n",
      "│ - │ - │ - │\n",
      "╘═══╧═══╧═══╛\n"
     ]
    }
   ],
   "source": [
    "# Step player 2\n",
    "color = 2 # player 2\n",
    "action = 0\n",
    "new_state, reward, done, _ = env.step((action, color))\n",
    "print(new_state, reward, done)\n",
    "print(env.render())"
   ]
  },
  {
   "cell_type": "code",
   "execution_count": 48,
   "metadata": {},
   "outputs": [
    {
     "name": "stdout",
     "output_type": "stream",
     "text": [
      "8953 9\n"
     ]
    }
   ],
   "source": [
    "state_size = env.observation_space.n\n",
    "action_size = env.action_space.n\n",
    "print(state_size, action_size)"
   ]
  },
  {
   "cell_type": "code",
   "execution_count": 49,
   "metadata": {},
   "outputs": [
    {
     "name": "stdout",
     "output_type": "stream",
     "text": [
      "[[2 0 0]\n",
      " [0 1 0]\n",
      " [0 0 1]] -1 False\n",
      "[[2 2 0]\n",
      " [0 1 0]\n",
      " [0 0 1]] -1 False\n",
      "[[2 2 0]\n",
      " [0 1 0]\n",
      " [0 1 1]] -1 False\n"
     ]
    }
   ],
   "source": [
    "color = 1 # player 1\n",
    "action = 8\n",
    "new_state, reward, done, _ = env.step((action, color))\n",
    "print(new_state, reward, done)\n",
    "\n",
    "\n",
    "color = 2 # player 2\n",
    "action = 1\n",
    "new_state, reward, done, _ = env.step((action, color))\n",
    "print(new_state, reward, done)\n",
    "\n",
    "\n",
    "color = 1 # player 1\n",
    "action = 7\n",
    "new_state, reward, done, _ = env.step((action, color))\n",
    "print(new_state, reward, done)\n"
   ]
  },
  {
   "cell_type": "code",
   "execution_count": 50,
   "metadata": {},
   "outputs": [
    {
     "name": "stdout",
     "output_type": "stream",
     "text": [
      "[[2 2 2]\n",
      " [0 1 0]\n",
      " [0 1 1]] 9 True\n"
     ]
    }
   ],
   "source": [
    "# Step player 2 won the game!\n",
    "color = 2 # player 2\n",
    "action = 2\n",
    "new_state, reward, done, _ = env.step((action, color))\n",
    "print(new_state, reward, done)"
   ]
  }
 ],
 "metadata": {
  "kernelspec": {
   "display_name": "gym_env",
   "language": "python",
   "name": "python3"
  },
  "language_info": {
   "codemirror_mode": {
    "name": "ipython",
    "version": 3
   },
   "file_extension": ".py",
   "mimetype": "text/x-python",
   "name": "python",
   "nbconvert_exporter": "python",
   "pygments_lexer": "ipython3",
   "version": "3.11.3"
  },
  "orig_nbformat": 4
 },
 "nbformat": 4,
 "nbformat_minor": 2
}
